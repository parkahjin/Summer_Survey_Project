{
 "cells": [
  {
   "cell_type": "code",
   "execution_count": 17,
   "id": "859ab309-b1e4-4f25-808c-42aa0c49f5a1",
   "metadata": {},
   "outputs": [],
   "source": [
    "import pandas as pd\n",
    "from sklearn.metrics.pairwise import cosine_similarity\n",
    "from sklearn.preprocessing import OneHotEncoder\n",
    "from sklearn.metrics.pairwise import cosine_similarity"
   ]
  },
  {
   "cell_type": "code",
   "execution_count": 6,
   "id": "00359816-6c59-47b3-80db-2c7eab9ec44d",
   "metadata": {
    "scrolled": true
   },
   "outputs": [],
   "source": [
    "# Step 1: 데이터 전처리 및 벡터 생성\n",
    "# CSV 파일을 불러옵니다.\n",
    "df = pd.read_csv('survey_data.csv')\n",
    "\n",
    "# 원본 파일의 컬럼명인 '다음_휴가_경험'을 제외한 모든 컬럼을 특징(feature)으로 사용합니다.\n",
    "# 유사도 점수를 높이기 위해 핵심 특징 5가지만 선택합니다.\n",
    "selected_features = ['연령대', '성별', '함께한_사람', '휴가_장소_국내_해외', '가장_최근_여름_휴가']\n",
    "features_df = df[selected_features]\n",
    "\n",
    "# 선택된 특징 컬럼들을 원-핫 인코딩합니다.\n",
    "features_encoded = pd.get_dummies(features_df)\n",
    "\n",
    "# 모든 컬럼을 기준으로 인코딩된 전체 데이터프레임을 만듭니다.\n",
    "# 이는 새로운 고객의 데이터를 인코딩할 때 기준이 됩니다.\n",
    "full_encoded_df = pd.get_dummies(df)"
   ]
  },
  {
   "cell_type": "code",
   "execution_count": 8,
   "id": "d48bfcce-0fef-45de-aaba-4718f8e3d0be",
   "metadata": {},
   "outputs": [],
   "source": [
    "# Step 2: 새로운 고객의 데이터 준비\n",
    "# 새로운 고객의 가상 데이터를 만듭니다.\n",
    "\n",
    "## 백엔드 완성되면 DB에서 설문조사한 고객의 데이터 바로 끌어올 예정.\n",
    "## 현재 아래의 데이터는 임시 데이터로 저장해 둔 상태, 나중에 수정 예정.\n",
    "new_user_data = {\n",
    "    '연령대': '20대',\n",
    "    '성별': '여성',\n",
    "    '가장_최근_여름_휴가': '해수욕, 물놀이 (바다/섬 여행)',\n",
    "    '휴가_장소_국내_해외': '국내',\n",
    "    '휴가_장소': '제주',\n",
    "    '주요_교통수단': '비행기',\n",
    "    '휴가_기간': '4~6일',\n",
    "    '함께한_사람': '친구',\n",
    "    '총_비용': '10만~30만 원',\n",
    "    '만족도': '매우 만족',\n",
    "    '다음_휴가_경험': '도시 관광 (쇼핑, 카페, 시내 구경)'\n",
    "}\n",
    "\n",
    "# 새로운 고객의 데이터를 데이터프레임으로 변환합니다.\n",
    "new_user_df = pd.DataFrame([new_user_data])\n",
    "\n",
    "# 기존 데이터와 동일한 형식으로 새로운 고객 데이터를 인코딩합니다.\n",
    "new_user_encoded = pd.get_dummies(new_user_df).reindex(columns=full_encoded_df.columns, fill_value=0)\n",
    "\n",
    "# 분석에서 제외하기로 한 컬럼을 제거합니다.\n",
    "# '다음_희망_휴가' 컬럼과 선택되지 않은 다른 컬럼들을 모두 제거합니다.\n",
    "all_cols_to_drop = [col for col in full_encoded_df.columns if col not in features_encoded.columns]\n",
    "new_user_features = new_user_encoded.drop(columns=all_cols_to_drop)"
   ]
  },
  {
   "cell_type": "code",
   "execution_count": 20,
   "id": "79b5bd83-fc4e-475f-a902-1c984bc892cc",
   "metadata": {},
   "outputs": [],
   "source": [
    "# Step 3: 코사인 유사도 측정\n",
    "# 새로운 고객과 기존 모든 고객 간의 유사도를 계산합니다.\n",
    "similarity_scores = cosine_similarity(new_user_features, features_encoded)"
   ]
  },
  {
   "cell_type": "code",
   "execution_count": 22,
   "id": "800185dd-379f-47a9-92a5-bcd174bb2bc2",
   "metadata": {},
   "outputs": [],
   "source": [
    "# Step 4: 가장 유사한 고객 찾기\n",
    "# 유사도 점수를 내림차순으로 정렬하여 가장 높은 점수를 받은 고객의 인덱스를 찾습니다.\n",
    "# [::-1]은 순서를 뒤집어 유사도가 높은 순으로 정렬합니다.\n",
    "# [1:6]은 자기 자신을 제외한 상위 5명을 의미합니다.\n",
    "top_indices = similarity_scores[0].argsort()[::-1][1:6]"
   ]
  },
  {
   "cell_type": "code",
   "execution_count": 23,
   "id": "0841a5b5-a9dc-404f-ab58-e98bebbabd86",
   "metadata": {},
   "outputs": [
    {
     "name": "stdout",
     "output_type": "stream",
     "text": [
      "\n",
      "--- 가장 유사한 고객 정보 ---\n",
      "\n",
      "[1위 고객 정보]\n",
      "유사도 점수: 0.80\n",
      "  - 연령대: 20대\n",
      "  - 성별: 여성\n",
      "  - 가장_최근_여름_휴가: 맛집 투어 (맛집 탐방, 지역 특산물 체험)\n",
      "  - 휴가_장소_국내_해외: 해외\n",
      "  - 휴가_장소: 동남아시아\n",
      "  - 주요_교통수단: 버스\n",
      "  - 휴가_기간: 7일~ 15일\n",
      "  - 함께한_사람: 혼자\n",
      "  - 총_비용: 50만~100만 원\n",
      "  - 만족도: 불만족\n",
      "  - 다음_희망_휴가: 휴양·힐링 (스파, 리조트, 펜션 휴식)\n",
      "\n",
      "[2위 고객 정보]\n",
      "유사도 점수: 0.80\n",
      "  - 연령대: 20대\n",
      "  - 성별: 여성\n",
      "  - 가장_최근_여름_휴가: 해수욕, 물놀이 (바다/섬 여행)\n",
      "  - 휴가_장소_국내_해외: 해외\n",
      "  - 휴가_장소: 동아시아\n",
      "  - 주요_교통수단: 자동차\n",
      "  - 휴가_기간: 2~3일\n",
      "  - 함께한_사람: 친구\n",
      "  - 총_비용: 100만 원~200만 원\n",
      "  - 만족도: 만족\n",
      "  - 다음_희망_휴가: 맛집 투어 (맛집 탐방, 지역 특산물 체험)\n",
      "\n",
      "[3위 고객 정보]\n",
      "유사도 점수: 0.80\n",
      "  - 연령대: 20대\n",
      "  - 성별: 여성\n",
      "  - 가장_최근_여름_휴가: 해수욕, 물놀이 (바다/섬 여행)\n",
      "  - 휴가_장소_국내_해외: 해외\n",
      "  - 휴가_장소: 동아시아\n",
      "  - 주요_교통수단: 항공편\n",
      "  - 휴가_기간: 4~6일\n",
      "  - 함께한_사람: 가족\n",
      "  - 총_비용: 30만~50만 원\n",
      "  - 만족도: 매우 만족\n",
      "  - 다음_희망_휴가: 도시 관광 (쇼핑, 카페, 시내 구경)\n",
      "\n",
      "[4위 고객 정보]\n",
      "유사도 점수: 0.80\n",
      "  - 연령대: 20대\n",
      "  - 성별: 여성\n",
      "  - 가장_최근_여름_휴가: 등산, 캠핑 등 아웃도어 활동 (산/계곡 여행)\n",
      "  - 휴가_장소_국내_해외: 해외\n",
      "  - 휴가_장소: 북미\n",
      "  - 주요_교통수단: 자동차\n",
      "  - 휴가_기간: 4~6일\n",
      "  - 함께한_사람: 혼자\n",
      "  - 총_비용: 30만~50만 원\n",
      "  - 만족도: 만족\n",
      "  - 다음_희망_휴가: 친척·지인 방문\n",
      "\n",
      "[5위 고객 정보]\n",
      "유사도 점수: 0.80\n",
      "  - 연령대: 20대\n",
      "  - 성별: 여성\n",
      "  - 가장_최근_여름_휴가: 해수욕, 물놀이 (바다/섬 여행)\n",
      "  - 휴가_장소_국내_해외: 해외\n",
      "  - 휴가_장소: 아프리카\n",
      "  - 주요_교통수단: 버스\n",
      "  - 휴가_기간: 2~3일\n",
      "  - 함께한_사람: 가족\n",
      "  - 총_비용: 10만 원 이하\n",
      "  - 만족도: 매우 만족\n",
      "  - 다음_희망_휴가: 휴양·힐링 (스파, 리조트, 펜션 휴식)\n"
     ]
    }
   ],
   "source": [
    "# Step 5: 추천 결과 도출 및 제공\n",
    "print(\"\\n--- 가장 유사한 고객 정보 ---\")\n",
    "for i, index in enumerate(top_indices):\n",
    "    print(f\"\\n[{i+1}위 고객 정보]\")\n",
    "    print(f\"유사도 점수: {similarity_scores[0][index]:.2f}\")\n",
    "    \n",
    "    # 해당 고객의 원본 데이터에서 정보를 가져와 출력합니다.\n",
    "    similar_user_info = df.iloc[index]\n",
    "    for col in similar_user_info.index:\n",
    "        print(f\"  - {col}: {similar_user_info[col]}\")"
   ]
  }
 ],
 "metadata": {
  "kernelspec": {
   "display_name": "Python 3 (ipykernel)",
   "language": "python",
   "name": "python3"
  },
  "language_info": {
   "codemirror_mode": {
    "name": "ipython",
    "version": 3
   },
   "file_extension": ".py",
   "mimetype": "text/x-python",
   "name": "python",
   "nbconvert_exporter": "python",
   "pygments_lexer": "ipython3",
   "version": "3.13.5"
  }
 },
 "nbformat": 4,
 "nbformat_minor": 5
}
